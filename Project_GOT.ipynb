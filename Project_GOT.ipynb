{
  "cells": [
    {
      "cell_type": "markdown",
      "metadata": {
        "id": "view-in-github",
        "colab_type": "text"
      },
      "source": [
        "<a href=\"https://colab.research.google.com/github/shayma-dridi/Formation_ML/blob/master/Project_GOT.ipynb\" target=\"_parent\"><img src=\"https://colab.research.google.com/assets/colab-badge.svg\" alt=\"Open In Colab\"/></a>"
      ]
    },
    {
      "cell_type": "code",
      "execution_count": null,
      "metadata": {
        "colab": {
          "base_uri": "https://localhost:8080/"
        },
        "id": "bDAOOwlBTzpr",
        "outputId": "fe1ca701-22fb-44a9-ccbf-2b668b6b8687"
      },
      "outputs": [
        {
          "output_type": "stream",
          "name": "stdout",
          "text": [
            "[nltk_data] Downloading package stopwords to /root/nltk_data...\n",
            "[nltk_data]   Package stopwords is already up-to-date!\n"
          ]
        }
      ],
      "source": [
        "import pandas as pd\n",
        "import string\n",
        "import nltk\n",
        "import re\n",
        "from nltk.corpus import stopwords\n",
        "nltk.download('stopwords')\n",
        "from nltk.tokenize import sent_tokenize, word_tokenize\n",
        "from nltk.stem.porter import PorterStemmer\n",
        "from nltk.sentiment.vader import SentimentIntensityAnalyzer\n",
        "from textblob import TextBlob\n",
        "import numpy as np\n",
        "import matplotlib.pyplot as plt\n"
      ]
    },
    {
      "cell_type": "code",
      "execution_count": null,
      "metadata": {
        "colab": {
          "base_uri": "https://localhost:8080/",
          "height": 423
        },
        "id": "aez3s_0cTzpz",
        "outputId": "bf171949-890f-488d-f598-99c06c2d3d84"
      },
      "outputs": [
        {
          "output_type": "execute_result",
          "data": {
            "text/html": [
              "\n",
              "  <div id=\"df-ddbe9dac-4a7f-45c0-a5de-27def62f8822\">\n",
              "    <div class=\"colab-df-container\">\n",
              "      <div>\n",
              "<style scoped>\n",
              "    .dataframe tbody tr th:only-of-type {\n",
              "        vertical-align: middle;\n",
              "    }\n",
              "\n",
              "    .dataframe tbody tr th {\n",
              "        vertical-align: top;\n",
              "    }\n",
              "\n",
              "    .dataframe thead th {\n",
              "        text-align: right;\n",
              "    }\n",
              "</style>\n",
              "<table border=\"1\" class=\"dataframe\">\n",
              "  <thead>\n",
              "    <tr style=\"text-align: right;\">\n",
              "      <th></th>\n",
              "      <th>Unnamed: 0</th>\n",
              "      <th>Name</th>\n",
              "      <th>Reviews</th>\n",
              "      <th>Likes</th>\n",
              "      <th>Date</th>\n",
              "    </tr>\n",
              "  </thead>\n",
              "  <tbody>\n",
              "    <tr>\n",
              "      <th>0</th>\n",
              "      <td>0</td>\n",
              "      <td>Eric Hazlett</td>\n",
              "      <td>0🪂0🏇🗯️🔱⛷️🏂🏇🪂💯🔊</td>\n",
              "      <td>5</td>\n",
              "      <td>2021-12-26 08:19:01</td>\n",
              "    </tr>\n",
              "    <tr>\n",
              "      <th>1</th>\n",
              "      <td>1</td>\n",
              "      <td>LeRoy Muhs</td>\n",
              "      <td>Green boxed failure</td>\n",
              "      <td>1</td>\n",
              "      <td>2021-12-26 06:34:42</td>\n",
              "    </tr>\n",
              "    <tr>\n",
              "      <th>2</th>\n",
              "      <td>2</td>\n",
              "      <td>Emrick Azor</td>\n",
              "      <td>So I just got a new phone.. this was on it by ...</td>\n",
              "      <td>1</td>\n",
              "      <td>2021-12-25 20:55:28</td>\n",
              "    </tr>\n",
              "    <tr>\n",
              "      <th>3</th>\n",
              "      <td>3</td>\n",
              "      <td>James Wiltz</td>\n",
              "      <td>👍👍👍👍👍👍👍👍👍👍👍👍👍👍</td>\n",
              "      <td>5</td>\n",
              "      <td>2021-12-25 18:40:47</td>\n",
              "    </tr>\n",
              "    <tr>\n",
              "      <th>4</th>\n",
              "      <td>4</td>\n",
              "      <td>Axel Retta</td>\n",
              "      <td>I can't delete my The app</td>\n",
              "      <td>1</td>\n",
              "      <td>2021-12-25 07:34:29</td>\n",
              "    </tr>\n",
              "    <tr>\n",
              "      <th>...</th>\n",
              "      <td>...</td>\n",
              "      <td>...</td>\n",
              "      <td>...</td>\n",
              "      <td>...</td>\n",
              "      <td>...</td>\n",
              "    </tr>\n",
              "    <tr>\n",
              "      <th>50037</th>\n",
              "      <td>6813</td>\n",
              "      <td>Mark Falconer</td>\n",
              "      <td>haha i literally got an advert for the game fo...</td>\n",
              "      <td>88</td>\n",
              "      <td>2019-06-05T13:58:54Z</td>\n",
              "    </tr>\n",
              "    <tr>\n",
              "      <th>50038</th>\n",
              "      <td>6814</td>\n",
              "      <td>Alphajet 101</td>\n",
              "      <td>I just came here from the Pokemon Direct. Had ...</td>\n",
              "      <td>20</td>\n",
              "      <td>2019-06-05T13:58:29Z</td>\n",
              "    </tr>\n",
              "    <tr>\n",
              "      <th>50039</th>\n",
              "      <td>6815</td>\n",
              "      <td>Sean Tyler Fermin</td>\n",
              "      <td>No surprise the game is just as shit as the show</td>\n",
              "      <td>0</td>\n",
              "      <td>2019-06-05T13:58:19Z</td>\n",
              "    </tr>\n",
              "    <tr>\n",
              "      <th>50040</th>\n",
              "      <td>6816</td>\n",
              "      <td>That Guy</td>\n",
              "      <td>RIGHT I GOT AN AD FOR THIS RIGHT NOW\\n\\n\\n\\n\\n...</td>\n",
              "      <td>6</td>\n",
              "      <td>2019-06-05T13:58:10Z</td>\n",
              "    </tr>\n",
              "    <tr>\n",
              "      <th>50041</th>\n",
              "      <td>6817</td>\n",
              "      <td>Jay Exci</td>\n",
              "      <td>As much as I'll miss Chris, Sheila and Kevin u...</td>\n",
              "      <td>872</td>\n",
              "      <td>2019-06-05T13:57:09Z</td>\n",
              "    </tr>\n",
              "  </tbody>\n",
              "</table>\n",
              "<p>50042 rows × 5 columns</p>\n",
              "</div>\n",
              "      <button class=\"colab-df-convert\" onclick=\"convertToInteractive('df-ddbe9dac-4a7f-45c0-a5de-27def62f8822')\"\n",
              "              title=\"Convert this dataframe to an interactive table.\"\n",
              "              style=\"display:none;\">\n",
              "        \n",
              "  <svg xmlns=\"http://www.w3.org/2000/svg\" height=\"24px\"viewBox=\"0 0 24 24\"\n",
              "       width=\"24px\">\n",
              "    <path d=\"M0 0h24v24H0V0z\" fill=\"none\"/>\n",
              "    <path d=\"M18.56 5.44l.94 2.06.94-2.06 2.06-.94-2.06-.94-.94-2.06-.94 2.06-2.06.94zm-11 1L8.5 8.5l.94-2.06 2.06-.94-2.06-.94L8.5 2.5l-.94 2.06-2.06.94zm10 10l.94 2.06.94-2.06 2.06-.94-2.06-.94-.94-2.06-.94 2.06-2.06.94z\"/><path d=\"M17.41 7.96l-1.37-1.37c-.4-.4-.92-.59-1.43-.59-.52 0-1.04.2-1.43.59L10.3 9.45l-7.72 7.72c-.78.78-.78 2.05 0 2.83L4 21.41c.39.39.9.59 1.41.59.51 0 1.02-.2 1.41-.59l7.78-7.78 2.81-2.81c.8-.78.8-2.07 0-2.86zM5.41 20L4 18.59l7.72-7.72 1.47 1.35L5.41 20z\"/>\n",
              "  </svg>\n",
              "      </button>\n",
              "      \n",
              "  <style>\n",
              "    .colab-df-container {\n",
              "      display:flex;\n",
              "      flex-wrap:wrap;\n",
              "      gap: 12px;\n",
              "    }\n",
              "\n",
              "    .colab-df-convert {\n",
              "      background-color: #E8F0FE;\n",
              "      border: none;\n",
              "      border-radius: 50%;\n",
              "      cursor: pointer;\n",
              "      display: none;\n",
              "      fill: #1967D2;\n",
              "      height: 32px;\n",
              "      padding: 0 0 0 0;\n",
              "      width: 32px;\n",
              "    }\n",
              "\n",
              "    .colab-df-convert:hover {\n",
              "      background-color: #E2EBFA;\n",
              "      box-shadow: 0px 1px 2px rgba(60, 64, 67, 0.3), 0px 1px 3px 1px rgba(60, 64, 67, 0.15);\n",
              "      fill: #174EA6;\n",
              "    }\n",
              "\n",
              "    [theme=dark] .colab-df-convert {\n",
              "      background-color: #3B4455;\n",
              "      fill: #D2E3FC;\n",
              "    }\n",
              "\n",
              "    [theme=dark] .colab-df-convert:hover {\n",
              "      background-color: #434B5C;\n",
              "      box-shadow: 0px 1px 3px 1px rgba(0, 0, 0, 0.15);\n",
              "      filter: drop-shadow(0px 1px 2px rgba(0, 0, 0, 0.3));\n",
              "      fill: #FFFFFF;\n",
              "    }\n",
              "  </style>\n",
              "\n",
              "      <script>\n",
              "        const buttonEl =\n",
              "          document.querySelector('#df-ddbe9dac-4a7f-45c0-a5de-27def62f8822 button.colab-df-convert');\n",
              "        buttonEl.style.display =\n",
              "          google.colab.kernel.accessAllowed ? 'block' : 'none';\n",
              "\n",
              "        async function convertToInteractive(key) {\n",
              "          const element = document.querySelector('#df-ddbe9dac-4a7f-45c0-a5de-27def62f8822');\n",
              "          const dataTable =\n",
              "            await google.colab.kernel.invokeFunction('convertToInteractive',\n",
              "                                                     [key], {});\n",
              "          if (!dataTable) return;\n",
              "\n",
              "          const docLinkHtml = 'Like what you see? Visit the ' +\n",
              "            '<a target=\"_blank\" href=https://colab.research.google.com/notebooks/data_table.ipynb>data table notebook</a>'\n",
              "            + ' to learn more about interactive tables.';\n",
              "          element.innerHTML = '';\n",
              "          dataTable['output_type'] = 'display_data';\n",
              "          await google.colab.output.renderOutput(dataTable, element);\n",
              "          const docLink = document.createElement('div');\n",
              "          docLink.innerHTML = docLinkHtml;\n",
              "          element.appendChild(docLink);\n",
              "        }\n",
              "      </script>\n",
              "    </div>\n",
              "  </div>\n",
              "  "
            ],
            "text/plain": [
              "       Unnamed: 0               Name  ... Likes                  Date\n",
              "0               0       Eric Hazlett  ...     5   2021-12-26 08:19:01\n",
              "1               1         LeRoy Muhs  ...     1   2021-12-26 06:34:42\n",
              "2               2        Emrick Azor  ...     1   2021-12-25 20:55:28\n",
              "3               3        James Wiltz  ...     5   2021-12-25 18:40:47\n",
              "4               4         Axel Retta  ...     1   2021-12-25 07:34:29\n",
              "...           ...                ...  ...   ...                   ...\n",
              "50037        6813      Mark Falconer  ...    88  2019-06-05T13:58:54Z\n",
              "50038        6814       Alphajet 101  ...    20  2019-06-05T13:58:29Z\n",
              "50039        6815  Sean Tyler Fermin  ...     0  2019-06-05T13:58:19Z\n",
              "50040        6816           That Guy  ...     6  2019-06-05T13:58:10Z\n",
              "50041        6817           Jay Exci  ...   872  2019-06-05T13:57:09Z\n",
              "\n",
              "[50042 rows x 5 columns]"
            ]
          },
          "metadata": {},
          "execution_count": 4
        }
      ],
      "source": [
        "df = pd.read_csv('/content/game_of_thrones.csv')\n",
        "df"
      ]
    },
    {
      "cell_type": "code",
      "execution_count": null,
      "metadata": {
        "colab": {
          "base_uri": "https://localhost:8080/"
        },
        "id": "GVa3iIGpTzp2",
        "outputId": "eb2234d6-c087-4646-ee8b-59ce015fb1d2"
      },
      "outputs": [
        {
          "output_type": "execute_result",
          "data": {
            "text/plain": [
              "0"
            ]
          },
          "metadata": {},
          "execution_count": 5
        }
      ],
      "source": [
        "df.duplicated().sum()"
      ]
    },
    {
      "cell_type": "code",
      "execution_count": null,
      "metadata": {
        "colab": {
          "base_uri": "https://localhost:8080/"
        },
        "id": "0h1F_6B9Tzp4",
        "outputId": "ad0a84c6-d6a2-4623-e44b-31de5b3ecfe8"
      },
      "outputs": [
        {
          "output_type": "execute_result",
          "data": {
            "text/plain": [
              "Unnamed: 0    0\n",
              "Name          1\n",
              "Reviews       3\n",
              "Likes         0\n",
              "Date          0\n",
              "dtype: int64"
            ]
          },
          "metadata": {},
          "execution_count": 6
        }
      ],
      "source": [
        "df.isnull().sum()"
      ]
    },
    {
      "cell_type": "code",
      "execution_count": null,
      "metadata": {
        "colab": {
          "base_uri": "https://localhost:8080/"
        },
        "id": "uHl6vETFTzp5",
        "outputId": "5c3e7723-2875-466a-e4d2-569544c0241e"
      },
      "outputs": [
        {
          "output_type": "execute_result",
          "data": {
            "text/plain": [
              "(50038, 5)"
            ]
          },
          "metadata": {},
          "execution_count": 7
        }
      ],
      "source": [
        "df.drop(df[df.Name.isna()].index, inplace=True)\n",
        "df.drop(df[df.Reviews.isna()].index, inplace=True)\n",
        "df.shape"
      ]
    },
    {
      "cell_type": "code",
      "execution_count": null,
      "metadata": {
        "colab": {
          "base_uri": "https://localhost:8080/"
        },
        "id": "cF5uQaVmTzp7",
        "outputId": "6e7904d6-f79c-443c-eb39-f88977e0d66d"
      },
      "outputs": [
        {
          "output_type": "stream",
          "name": "stdout",
          "text": [
            "<class 'pandas.core.frame.DataFrame'>\n",
            "Int64Index: 50038 entries, 0 to 50041\n",
            "Data columns (total 5 columns):\n",
            " #   Column      Non-Null Count  Dtype \n",
            "---  ------      --------------  ----- \n",
            " 0   Unnamed: 0  50038 non-null  int64 \n",
            " 1   Name        50038 non-null  object\n",
            " 2   Reviews     50038 non-null  object\n",
            " 3   Likes       50038 non-null  int64 \n",
            " 4   Date        50038 non-null  object\n",
            "dtypes: int64(2), object(3)\n",
            "memory usage: 2.3+ MB\n"
          ]
        }
      ],
      "source": [
        "df.info()"
      ]
    },
    {
      "cell_type": "code",
      "execution_count": null,
      "metadata": {
        "colab": {
          "base_uri": "https://localhost:8080/"
        },
        "id": "sqn1C5Q9Tzp9",
        "outputId": "2a9d202e-224a-467c-ab6e-fd9dcf8d3862"
      },
      "outputs": [
        {
          "output_type": "execute_result",
          "data": {
            "text/html": [
              "\n",
              "  <div id=\"df-bc22215c-1f90-44aa-9766-29ad97fa3b84\">\n",
              "    <div class=\"colab-df-container\">\n",
              "      <div>\n",
              "<style scoped>\n",
              "    .dataframe tbody tr th:only-of-type {\n",
              "        vertical-align: middle;\n",
              "    }\n",
              "\n",
              "    .dataframe tbody tr th {\n",
              "        vertical-align: top;\n",
              "    }\n",
              "\n",
              "    .dataframe thead th {\n",
              "        text-align: right;\n",
              "    }\n",
              "</style>\n",
              "<table border=\"1\" class=\"dataframe\">\n",
              "  <thead>\n",
              "    <tr style=\"text-align: right;\">\n",
              "      <th></th>\n",
              "      <th>Unnamed: 0</th>\n",
              "      <th>Name</th>\n",
              "      <th>Reviews</th>\n",
              "      <th>Likes</th>\n",
              "      <th>Date</th>\n",
              "    </tr>\n",
              "  </thead>\n",
              "  <tbody>\n",
              "    <tr>\n",
              "      <th>0</th>\n",
              "      <td>0</td>\n",
              "      <td>Eric Hazlett</td>\n",
              "      <td>0🪂0🏇🗯️🔱⛷️🏂🏇🪂💯🔊</td>\n",
              "      <td>5</td>\n",
              "      <td>2021-12-26 08:19:01</td>\n",
              "    </tr>\n",
              "    <tr>\n",
              "      <th>1</th>\n",
              "      <td>1</td>\n",
              "      <td>LeRoy Muhs</td>\n",
              "      <td>Green boxed failure</td>\n",
              "      <td>1</td>\n",
              "      <td>2021-12-26 06:34:42</td>\n",
              "    </tr>\n",
              "    <tr>\n",
              "      <th>2</th>\n",
              "      <td>2</td>\n",
              "      <td>Emrick Azor</td>\n",
              "      <td>So I just got a new phone.. this was on it by ...</td>\n",
              "      <td>1</td>\n",
              "      <td>2021-12-25 20:55:28</td>\n",
              "    </tr>\n",
              "    <tr>\n",
              "      <th>3</th>\n",
              "      <td>3</td>\n",
              "      <td>James Wiltz</td>\n",
              "      <td>👍👍👍👍👍👍👍👍👍👍👍👍👍👍</td>\n",
              "      <td>5</td>\n",
              "      <td>2021-12-25 18:40:47</td>\n",
              "    </tr>\n",
              "    <tr>\n",
              "      <th>4</th>\n",
              "      <td>4</td>\n",
              "      <td>Axel Retta</td>\n",
              "      <td>I can't delete my The app</td>\n",
              "      <td>1</td>\n",
              "      <td>2021-12-25 07:34:29</td>\n",
              "    </tr>\n",
              "  </tbody>\n",
              "</table>\n",
              "</div>\n",
              "      <button class=\"colab-df-convert\" onclick=\"convertToInteractive('df-bc22215c-1f90-44aa-9766-29ad97fa3b84')\"\n",
              "              title=\"Convert this dataframe to an interactive table.\"\n",
              "              style=\"display:none;\">\n",
              "        \n",
              "  <svg xmlns=\"http://www.w3.org/2000/svg\" height=\"24px\"viewBox=\"0 0 24 24\"\n",
              "       width=\"24px\">\n",
              "    <path d=\"M0 0h24v24H0V0z\" fill=\"none\"/>\n",
              "    <path d=\"M18.56 5.44l.94 2.06.94-2.06 2.06-.94-2.06-.94-.94-2.06-.94 2.06-2.06.94zm-11 1L8.5 8.5l.94-2.06 2.06-.94-2.06-.94L8.5 2.5l-.94 2.06-2.06.94zm10 10l.94 2.06.94-2.06 2.06-.94-2.06-.94-.94-2.06-.94 2.06-2.06.94z\"/><path d=\"M17.41 7.96l-1.37-1.37c-.4-.4-.92-.59-1.43-.59-.52 0-1.04.2-1.43.59L10.3 9.45l-7.72 7.72c-.78.78-.78 2.05 0 2.83L4 21.41c.39.39.9.59 1.41.59.51 0 1.02-.2 1.41-.59l7.78-7.78 2.81-2.81c.8-.78.8-2.07 0-2.86zM5.41 20L4 18.59l7.72-7.72 1.47 1.35L5.41 20z\"/>\n",
              "  </svg>\n",
              "      </button>\n",
              "      \n",
              "  <style>\n",
              "    .colab-df-container {\n",
              "      display:flex;\n",
              "      flex-wrap:wrap;\n",
              "      gap: 12px;\n",
              "    }\n",
              "\n",
              "    .colab-df-convert {\n",
              "      background-color: #E8F0FE;\n",
              "      border: none;\n",
              "      border-radius: 50%;\n",
              "      cursor: pointer;\n",
              "      display: none;\n",
              "      fill: #1967D2;\n",
              "      height: 32px;\n",
              "      padding: 0 0 0 0;\n",
              "      width: 32px;\n",
              "    }\n",
              "\n",
              "    .colab-df-convert:hover {\n",
              "      background-color: #E2EBFA;\n",
              "      box-shadow: 0px 1px 2px rgba(60, 64, 67, 0.3), 0px 1px 3px 1px rgba(60, 64, 67, 0.15);\n",
              "      fill: #174EA6;\n",
              "    }\n",
              "\n",
              "    [theme=dark] .colab-df-convert {\n",
              "      background-color: #3B4455;\n",
              "      fill: #D2E3FC;\n",
              "    }\n",
              "\n",
              "    [theme=dark] .colab-df-convert:hover {\n",
              "      background-color: #434B5C;\n",
              "      box-shadow: 0px 1px 3px 1px rgba(0, 0, 0, 0.15);\n",
              "      filter: drop-shadow(0px 1px 2px rgba(0, 0, 0, 0.3));\n",
              "      fill: #FFFFFF;\n",
              "    }\n",
              "  </style>\n",
              "\n",
              "      <script>\n",
              "        const buttonEl =\n",
              "          document.querySelector('#df-bc22215c-1f90-44aa-9766-29ad97fa3b84 button.colab-df-convert');\n",
              "        buttonEl.style.display =\n",
              "          google.colab.kernel.accessAllowed ? 'block' : 'none';\n",
              "\n",
              "        async function convertToInteractive(key) {\n",
              "          const element = document.querySelector('#df-bc22215c-1f90-44aa-9766-29ad97fa3b84');\n",
              "          const dataTable =\n",
              "            await google.colab.kernel.invokeFunction('convertToInteractive',\n",
              "                                                     [key], {});\n",
              "          if (!dataTable) return;\n",
              "\n",
              "          const docLinkHtml = 'Like what you see? Visit the ' +\n",
              "            '<a target=\"_blank\" href=https://colab.research.google.com/notebooks/data_table.ipynb>data table notebook</a>'\n",
              "            + ' to learn more about interactive tables.';\n",
              "          element.innerHTML = '';\n",
              "          dataTable['output_type'] = 'display_data';\n",
              "          await google.colab.output.renderOutput(dataTable, element);\n",
              "          const docLink = document.createElement('div');\n",
              "          docLink.innerHTML = docLinkHtml;\n",
              "          element.appendChild(docLink);\n",
              "        }\n",
              "      </script>\n",
              "    </div>\n",
              "  </div>\n",
              "  "
            ],
            "text/plain": [
              "   Unnamed: 0          Name  ... Likes                 Date\n",
              "0           0  Eric Hazlett  ...     5  2021-12-26 08:19:01\n",
              "1           1    LeRoy Muhs  ...     1  2021-12-26 06:34:42\n",
              "2           2   Emrick Azor  ...     1  2021-12-25 20:55:28\n",
              "3           3   James Wiltz  ...     5  2021-12-25 18:40:47\n",
              "4           4    Axel Retta  ...     1  2021-12-25 07:34:29\n",
              "\n",
              "[5 rows x 5 columns]"
            ]
          },
          "metadata": {},
          "execution_count": 9
        }
      ],
      "source": [
        "df['Date'] = pd.to_datetime(df['Date'])\n",
        "df.head()\n"
      ]
    },
    {
      "cell_type": "code",
      "execution_count": null,
      "metadata": {
        "colab": {
          "base_uri": "https://localhost:8080/"
        },
        "id": "ioLEqJm5Tzp-",
        "outputId": "88a8c1e0-bbfa-41b4-ad1c-5b7796eb9cc7"
      },
      "outputs": [
        {
          "output_type": "execute_result",
          "data": {
            "text/plain": [
              "0                                           0🪂0🏇🗯️🔱⛷️🏂🏇🪂💯🔊\n",
              "1                                      Green boxed failure\n",
              "2        So I just got a new phone.. this was on it by ...\n",
              "3                                           👍👍👍👍👍👍👍👍👍👍👍👍👍👍\n",
              "4                                I can't delete my The app\n",
              "                               ...                        \n",
              "50037    haha i literally got an advert for the game fo...\n",
              "50038    I just came here from the Pokemon Direct. Had ...\n",
              "50039     No surprise the game is just as shit as the show\n",
              "50040    RIGHT I GOT AN AD FOR THIS RIGHT NOW\\n\\n\\n\\n\\n...\n",
              "50041    As much as I'll miss Chris, Sheila and Kevin u...\n",
              "Name: Reviews, Length: 50038, dtype: object"
            ]
          },
          "metadata": {},
          "execution_count": 10
        }
      ],
      "source": [
        "df['Reviews']"
      ]
    },
    {
      "cell_type": "code",
      "execution_count": null,
      "metadata": {
        "colab": {
          "base_uri": "https://localhost:8080/",
          "height": 423
        },
        "id": "LNCp2gGsTzqA",
        "outputId": "b1ffebe1-72d7-4abd-a04e-959e13545945"
      },
      "outputs": [
        {
          "output_type": "execute_result",
          "data": {
            "text/html": [
              "\n",
              "  <div id=\"df-5602c941-6636-4e2d-b78e-2f5f3c7de7ac\">\n",
              "    <div class=\"colab-df-container\">\n",
              "      <div>\n",
              "<style scoped>\n",
              "    .dataframe tbody tr th:only-of-type {\n",
              "        vertical-align: middle;\n",
              "    }\n",
              "\n",
              "    .dataframe tbody tr th {\n",
              "        vertical-align: top;\n",
              "    }\n",
              "\n",
              "    .dataframe thead th {\n",
              "        text-align: right;\n",
              "    }\n",
              "</style>\n",
              "<table border=\"1\" class=\"dataframe\">\n",
              "  <thead>\n",
              "    <tr style=\"text-align: right;\">\n",
              "      <th></th>\n",
              "      <th>Unnamed: 0</th>\n",
              "      <th>Name</th>\n",
              "      <th>Reviews</th>\n",
              "      <th>Likes</th>\n",
              "      <th>Date</th>\n",
              "      <th>Polarity</th>\n",
              "    </tr>\n",
              "  </thead>\n",
              "  <tbody>\n",
              "    <tr>\n",
              "      <th>0</th>\n",
              "      <td>0</td>\n",
              "      <td>Eric Hazlett</td>\n",
              "      <td>0🪂0🏇🗯️🔱⛷️🏂🏇🪂💯🔊</td>\n",
              "      <td>5</td>\n",
              "      <td>2021-12-26 08:19:01</td>\n",
              "      <td>0.000000</td>\n",
              "    </tr>\n",
              "    <tr>\n",
              "      <th>1</th>\n",
              "      <td>1</td>\n",
              "      <td>LeRoy Muhs</td>\n",
              "      <td>Green boxed failure</td>\n",
              "      <td>1</td>\n",
              "      <td>2021-12-26 06:34:42</td>\n",
              "      <td>-0.258333</td>\n",
              "    </tr>\n",
              "    <tr>\n",
              "      <th>2</th>\n",
              "      <td>2</td>\n",
              "      <td>Emrick Azor</td>\n",
              "      <td>So I just got a new phone.. this was on it by ...</td>\n",
              "      <td>1</td>\n",
              "      <td>2021-12-25 20:55:28</td>\n",
              "      <td>-0.354545</td>\n",
              "    </tr>\n",
              "    <tr>\n",
              "      <th>3</th>\n",
              "      <td>3</td>\n",
              "      <td>James Wiltz</td>\n",
              "      <td>👍👍👍👍👍👍👍👍👍👍👍👍👍👍</td>\n",
              "      <td>5</td>\n",
              "      <td>2021-12-25 18:40:47</td>\n",
              "      <td>0.000000</td>\n",
              "    </tr>\n",
              "    <tr>\n",
              "      <th>4</th>\n",
              "      <td>4</td>\n",
              "      <td>Axel Retta</td>\n",
              "      <td>I can't delete my The app</td>\n",
              "      <td>1</td>\n",
              "      <td>2021-12-25 07:34:29</td>\n",
              "      <td>0.000000</td>\n",
              "    </tr>\n",
              "    <tr>\n",
              "      <th>...</th>\n",
              "      <td>...</td>\n",
              "      <td>...</td>\n",
              "      <td>...</td>\n",
              "      <td>...</td>\n",
              "      <td>...</td>\n",
              "      <td>...</td>\n",
              "    </tr>\n",
              "    <tr>\n",
              "      <th>50037</th>\n",
              "      <td>6813</td>\n",
              "      <td>Mark Falconer</td>\n",
              "      <td>haha i literally got an advert for the game fo...</td>\n",
              "      <td>88</td>\n",
              "      <td>2019-06-05 13:58:54+00:00</td>\n",
              "      <td>-0.100000</td>\n",
              "    </tr>\n",
              "    <tr>\n",
              "      <th>50038</th>\n",
              "      <td>6814</td>\n",
              "      <td>Alphajet 101</td>\n",
              "      <td>I just came here from the Pokemon Direct. Had ...</td>\n",
              "      <td>20</td>\n",
              "      <td>2019-06-05 13:58:29+00:00</td>\n",
              "      <td>0.100000</td>\n",
              "    </tr>\n",
              "    <tr>\n",
              "      <th>50039</th>\n",
              "      <td>6815</td>\n",
              "      <td>Sean Tyler Fermin</td>\n",
              "      <td>No surprise the game is just as shit as the show</td>\n",
              "      <td>0</td>\n",
              "      <td>2019-06-05 13:58:19+00:00</td>\n",
              "      <td>-0.300000</td>\n",
              "    </tr>\n",
              "    <tr>\n",
              "      <th>50040</th>\n",
              "      <td>6816</td>\n",
              "      <td>That Guy</td>\n",
              "      <td>RIGHT I GOT AN AD FOR THIS RIGHT NOW\\n\\n\\n\\n\\n...</td>\n",
              "      <td>6</td>\n",
              "      <td>2019-06-05 13:58:10+00:00</td>\n",
              "      <td>0.273810</td>\n",
              "    </tr>\n",
              "    <tr>\n",
              "      <th>50041</th>\n",
              "      <td>6817</td>\n",
              "      <td>Jay Exci</td>\n",
              "      <td>As much as I'll miss Chris, Sheila and Kevin u...</td>\n",
              "      <td>872</td>\n",
              "      <td>2019-06-05 13:57:09+00:00</td>\n",
              "      <td>0.437500</td>\n",
              "    </tr>\n",
              "  </tbody>\n",
              "</table>\n",
              "<p>50038 rows × 6 columns</p>\n",
              "</div>\n",
              "      <button class=\"colab-df-convert\" onclick=\"convertToInteractive('df-5602c941-6636-4e2d-b78e-2f5f3c7de7ac')\"\n",
              "              title=\"Convert this dataframe to an interactive table.\"\n",
              "              style=\"display:none;\">\n",
              "        \n",
              "  <svg xmlns=\"http://www.w3.org/2000/svg\" height=\"24px\"viewBox=\"0 0 24 24\"\n",
              "       width=\"24px\">\n",
              "    <path d=\"M0 0h24v24H0V0z\" fill=\"none\"/>\n",
              "    <path d=\"M18.56 5.44l.94 2.06.94-2.06 2.06-.94-2.06-.94-.94-2.06-.94 2.06-2.06.94zm-11 1L8.5 8.5l.94-2.06 2.06-.94-2.06-.94L8.5 2.5l-.94 2.06-2.06.94zm10 10l.94 2.06.94-2.06 2.06-.94-2.06-.94-.94-2.06-.94 2.06-2.06.94z\"/><path d=\"M17.41 7.96l-1.37-1.37c-.4-.4-.92-.59-1.43-.59-.52 0-1.04.2-1.43.59L10.3 9.45l-7.72 7.72c-.78.78-.78 2.05 0 2.83L4 21.41c.39.39.9.59 1.41.59.51 0 1.02-.2 1.41-.59l7.78-7.78 2.81-2.81c.8-.78.8-2.07 0-2.86zM5.41 20L4 18.59l7.72-7.72 1.47 1.35L5.41 20z\"/>\n",
              "  </svg>\n",
              "      </button>\n",
              "      \n",
              "  <style>\n",
              "    .colab-df-container {\n",
              "      display:flex;\n",
              "      flex-wrap:wrap;\n",
              "      gap: 12px;\n",
              "    }\n",
              "\n",
              "    .colab-df-convert {\n",
              "      background-color: #E8F0FE;\n",
              "      border: none;\n",
              "      border-radius: 50%;\n",
              "      cursor: pointer;\n",
              "      display: none;\n",
              "      fill: #1967D2;\n",
              "      height: 32px;\n",
              "      padding: 0 0 0 0;\n",
              "      width: 32px;\n",
              "    }\n",
              "\n",
              "    .colab-df-convert:hover {\n",
              "      background-color: #E2EBFA;\n",
              "      box-shadow: 0px 1px 2px rgba(60, 64, 67, 0.3), 0px 1px 3px 1px rgba(60, 64, 67, 0.15);\n",
              "      fill: #174EA6;\n",
              "    }\n",
              "\n",
              "    [theme=dark] .colab-df-convert {\n",
              "      background-color: #3B4455;\n",
              "      fill: #D2E3FC;\n",
              "    }\n",
              "\n",
              "    [theme=dark] .colab-df-convert:hover {\n",
              "      background-color: #434B5C;\n",
              "      box-shadow: 0px 1px 3px 1px rgba(0, 0, 0, 0.15);\n",
              "      filter: drop-shadow(0px 1px 2px rgba(0, 0, 0, 0.3));\n",
              "      fill: #FFFFFF;\n",
              "    }\n",
              "  </style>\n",
              "\n",
              "      <script>\n",
              "        const buttonEl =\n",
              "          document.querySelector('#df-5602c941-6636-4e2d-b78e-2f5f3c7de7ac button.colab-df-convert');\n",
              "        buttonEl.style.display =\n",
              "          google.colab.kernel.accessAllowed ? 'block' : 'none';\n",
              "\n",
              "        async function convertToInteractive(key) {\n",
              "          const element = document.querySelector('#df-5602c941-6636-4e2d-b78e-2f5f3c7de7ac');\n",
              "          const dataTable =\n",
              "            await google.colab.kernel.invokeFunction('convertToInteractive',\n",
              "                                                     [key], {});\n",
              "          if (!dataTable) return;\n",
              "\n",
              "          const docLinkHtml = 'Like what you see? Visit the ' +\n",
              "            '<a target=\"_blank\" href=https://colab.research.google.com/notebooks/data_table.ipynb>data table notebook</a>'\n",
              "            + ' to learn more about interactive tables.';\n",
              "          element.innerHTML = '';\n",
              "          dataTable['output_type'] = 'display_data';\n",
              "          await google.colab.output.renderOutput(dataTable, element);\n",
              "          const docLink = document.createElement('div');\n",
              "          docLink.innerHTML = docLinkHtml;\n",
              "          element.appendChild(docLink);\n",
              "        }\n",
              "      </script>\n",
              "    </div>\n",
              "  </div>\n",
              "  "
            ],
            "text/plain": [
              "       Unnamed: 0               Name  ...                       Date  Polarity\n",
              "0               0       Eric Hazlett  ...        2021-12-26 08:19:01  0.000000\n",
              "1               1         LeRoy Muhs  ...        2021-12-26 06:34:42 -0.258333\n",
              "2               2        Emrick Azor  ...        2021-12-25 20:55:28 -0.354545\n",
              "3               3        James Wiltz  ...        2021-12-25 18:40:47  0.000000\n",
              "4               4         Axel Retta  ...        2021-12-25 07:34:29  0.000000\n",
              "...           ...                ...  ...                        ...       ...\n",
              "50037        6813      Mark Falconer  ...  2019-06-05 13:58:54+00:00 -0.100000\n",
              "50038        6814       Alphajet 101  ...  2019-06-05 13:58:29+00:00  0.100000\n",
              "50039        6815  Sean Tyler Fermin  ...  2019-06-05 13:58:19+00:00 -0.300000\n",
              "50040        6816           That Guy  ...  2019-06-05 13:58:10+00:00  0.273810\n",
              "50041        6817           Jay Exci  ...  2019-06-05 13:57:09+00:00  0.437500\n",
              "\n",
              "[50038 rows x 6 columns]"
            ]
          },
          "metadata": {},
          "execution_count": 11
        }
      ],
      "source": [
        "df['Polarity'] = df['Reviews'].apply(lambda x: TextBlob(x).sentiment.polarity)\n",
        "df"
      ]
    },
    {
      "cell_type": "code",
      "execution_count": null,
      "metadata": {
        "colab": {
          "base_uri": "https://localhost:8080/",
          "height": 391
        },
        "id": "ekdcjgh_TzqC",
        "outputId": "f8409a0f-ba71-4899-c54e-e9b257beb9d8"
      },
      "outputs": [
        {
          "output_type": "execute_result",
          "data": {
            "text/plain": [
              "<matplotlib.axes._subplots.AxesSubplot at 0x7f483ad7e750>"
            ]
          },
          "metadata": {},
          "execution_count": 12
        },
        {
          "output_type": "display_data",
          "data": {
            "image/png": "[encoded data removed]",
            "text/plain": [
              "<Figure size 720x432 with 1 Axes>"
            ]
          },
          "metadata": {
            "needs_background": "light"
          }
        }
      ],
      "source": [
        "plt.figure(figsize = (10,6))\n",
        "df['Polarity'].hist(color = 'purple')"
      ]
    },
    {
      "cell_type": "code",
      "execution_count": null,
      "metadata": {
        "id": "9aJusOPATzqE"
      },
      "outputs": [],
      "source": [
        "def punctuation_removal(messy_str):\n",
        "    clean_list = [char for char in messy_str if char not in string.punctuation]\n",
        "    clean_str = ''.join(clean_list)\n",
        "    return clean_str"
      ]
    },
    {
      "cell_type": "code",
      "execution_count": null,
      "metadata": {
        "colab": {
          "base_uri": "https://localhost:8080/"
        },
        "id": "fELB5DyaTzqF",
        "outputId": "95994ff9-0498-461a-b539-caa32694b22f"
      },
      "outputs": [
        {
          "output_type": "execute_result",
          "data": {
            "text/plain": [
              "0                                       0🪂0🏇🗯️🔱⛷️🏂🏇🪂💯🔊\n",
              "1                                  Green boxed failure\n",
              "2    So I just got a new phone this was on it by de...\n",
              "3                                       👍👍👍👍👍👍👍👍👍👍👍👍👍👍\n",
              "4                             I cant delete my The app\n",
              "Name: Reviews, dtype: object"
            ]
          },
          "metadata": {},
          "execution_count": 14
        }
      ],
      "source": [
        "df['Reviews'] = df['Reviews'].apply(punctuation_removal)\n",
        "df['Reviews'].head()"
      ]
    },
    {
      "cell_type": "code",
      "execution_count": null,
      "metadata": {
        "id": "fLlZXj4JTzqH"
      },
      "outputs": [],
      "source": [
        "stop = stopwords.words('english')\n",
        "stop.append(\"i'm\")\n"
      ]
    },
    {
      "cell_type": "code",
      "execution_count": null,
      "metadata": {
        "colab": {
          "base_uri": "https://localhost:8080/"
        },
        "id": "Hg61w0TyTzqI",
        "outputId": "7800b317-f0d9-437d-ca7b-dfb7a5a9ff88"
      },
      "outputs": [
        {
          "output_type": "stream",
          "name": "stdout",
          "text": [
            "['i', 'youd', 'hers', 'which', 'were', 'a', 'at', 'above', 'again', 'both', 'own', 'dont', 'aren', 'haven', 'shant']\n"
          ]
        }
      ],
      "source": [
        "stop_words = []\n",
        "\n",
        "for item in stop: \n",
        "    new_item = punctuation_removal(item)\n",
        "    stop_words.append(new_item) \n",
        "print(stop_words[::12])"
      ]
    },
    {
      "cell_type": "code",
      "execution_count": null,
      "metadata": {
        "id": "cYxAr5vTTzqJ"
      },
      "outputs": [],
      "source": [
        "def stopwords_removal(messy_str):\n",
        "    messy_str = word_tokenize(messy_str)\n",
        "    return [word.lower() for word in messy_str \n",
        "            if word.lower() not in stop_words and word.lower() ]"
      ]
    },
    {
      "cell_type": "code",
      "execution_count": null,
      "metadata": {
        "colab": {
          "base_uri": "https://localhost:8080/"
        },
        "id": "mlrSPo_VTzqK",
        "outputId": "40a1af13-a6e6-4e51-f341-52d5221182aa"
      },
      "outputs": [
        {
          "output_type": "stream",
          "name": "stdout",
          "text": [
            "[nltk_data] Downloading package punkt to /root/nltk_data...\n",
            "[nltk_data]   Unzipping tokenizers/punkt.zip.\n"
          ]
        },
        {
          "output_type": "execute_result",
          "data": {
            "text/plain": [
              "0                                   [0🪂0🏇🗯️🔱⛷️🏂🏇🪂💯🔊]\n",
              "1                            [green, boxed, failure]\n",
              "2    [got, new, phone, default, hate, game, thrones]\n",
              "3                                   [👍👍👍👍👍👍👍👍👍👍👍👍👍👍]\n",
              "4                                [cant, delete, app]\n",
              "Name: Reviews, dtype: object"
            ]
          },
          "metadata": {},
          "execution_count": 18
        }
      ],
      "source": [
        "nltk.download('punkt')\n",
        "\n",
        "df['Reviews'] = df['Reviews'].apply(stopwords_removal)\n",
        "df['Reviews'].head()"
      ]
    },
    {
      "cell_type": "code",
      "execution_count": null,
      "metadata": {
        "id": "gi2tOK1bTzqM"
      },
      "outputs": [],
      "source": [
        "def drop_numbers(list_text):\n",
        "    list_text_new = []\n",
        "    for i in list_text:\n",
        "        if not re.search('\\d', i):\n",
        "            list_text_new.append(i)\n",
        "    return ' '.join(list_text_new)"
      ]
    },
    {
      "cell_type": "code",
      "execution_count": null,
      "metadata": {
        "colab": {
          "base_uri": "https://localhost:8080/"
        },
        "id": "YtvJeDJGTzqO",
        "outputId": "1f17246a-25e1-4310-bc1e-1038949d1643"
      },
      "outputs": [
        {
          "output_type": "execute_result",
          "data": {
            "text/plain": [
              "0                                           \n",
              "1                        green boxed failure\n",
              "2    got new phone default hate game thrones\n",
              "3                             👍👍👍👍👍👍👍👍👍👍👍👍👍👍\n",
              "4                            cant delete app\n",
              "Name: Reviews, dtype: object"
            ]
          },
          "metadata": {},
          "execution_count": 20
        }
      ],
      "source": [
        "df['Reviews'] = df['Reviews'].apply(drop_numbers)\n",
        "df['Reviews'].head()"
      ]
    },
    {
      "cell_type": "code",
      "execution_count": null,
      "metadata": {
        "colab": {
          "base_uri": "https://localhost:8080/"
        },
        "id": "244MsdVDTzqP",
        "outputId": "0543c44e-d67d-48ff-cab4-6b055d2e043e"
      },
      "outputs": [
        {
          "output_type": "execute_result",
          "data": {
            "text/plain": [
              "0                                                 []\n",
              "1                            [green, boxed, failure]\n",
              "2    [got, new, phone, default, hate, game, thrones]\n",
              "3                                   [👍👍👍👍👍👍👍👍👍👍👍👍👍👍]\n",
              "4                                [cant, delete, app]\n",
              "Name: Reviews, dtype: object"
            ]
          },
          "metadata": {},
          "execution_count": 21
        }
      ],
      "source": [
        "porter = PorterStemmer()\n",
        "df['Reviews'] = df['Reviews'].apply(lambda x: x.split())\n",
        "df['Reviews'].head()"
      ]
    },
    {
      "cell_type": "code",
      "execution_count": null,
      "metadata": {
        "id": "3Oh-JskTTzqR"
      },
      "outputs": [],
      "source": [
        "def stem_update(text_list):\n",
        "    text_list_new = []\n",
        "    for word in text_list:\n",
        "        word = porter.stem(word)\n",
        "        text_list_new.append(word) \n",
        "    return text_list_new"
      ]
    },
    {
      "cell_type": "code",
      "execution_count": null,
      "metadata": {
        "colab": {
          "base_uri": "https://localhost:8080/"
        },
        "id": "rtP8ekiiTzqS",
        "outputId": "ca5469bb-025b-4182-a44c-1f62e0d96303"
      },
      "outputs": [
        {
          "output_type": "execute_result",
          "data": {
            "text/plain": [
              "0                                                []\n",
              "1                              [green, box, failur]\n",
              "2    [got, new, phone, default, hate, game, throne]\n",
              "3                                  [👍👍👍👍👍👍👍👍👍👍👍👍👍👍]\n",
              "4                                [cant, delet, app]\n",
              "Name: Reviews, dtype: object"
            ]
          },
          "metadata": {},
          "execution_count": 23
        }
      ],
      "source": [
        "df['Reviews'] = df['Reviews'].apply(stem_update)\n",
        "df['Reviews'].head()"
      ]
    },
    {
      "cell_type": "code",
      "execution_count": null,
      "metadata": {
        "id": "hb2lhWBXTzqU"
      },
      "outputs": [],
      "source": [
        "def sentiment(polarity):\n",
        "  if polarity <0:\n",
        "    return 0\n",
        "  else:\n",
        "    return 1"
      ]
    },
    {
      "cell_type": "code",
      "execution_count": null,
      "metadata": {
        "colab": {
          "base_uri": "https://localhost:8080/",
          "height": 423
        },
        "id": "eaCsjc6uTzqV",
        "outputId": "3a6c31ba-0970-4664-b1db-2a4a14c77d06"
      },
      "outputs": [
        {
          "output_type": "execute_result",
          "data": {
            "text/html": [
              "\n",
              "  <div id=\"df-09f70ece-a388-45ac-9bc3-0e401d1c1583\">\n",
              "    <div class=\"colab-df-container\">\n",
              "      <div>\n",
              "<style scoped>\n",
              "    .dataframe tbody tr th:only-of-type {\n",
              "        vertical-align: middle;\n",
              "    }\n",
              "\n",
              "    .dataframe tbody tr th {\n",
              "        vertical-align: top;\n",
              "    }\n",
              "\n",
              "    .dataframe thead th {\n",
              "        text-align: right;\n",
              "    }\n",
              "</style>\n",
              "<table border=\"1\" class=\"dataframe\">\n",
              "  <thead>\n",
              "    <tr style=\"text-align: right;\">\n",
              "      <th></th>\n",
              "      <th>Unnamed: 0</th>\n",
              "      <th>Name</th>\n",
              "      <th>Reviews</th>\n",
              "      <th>Likes</th>\n",
              "      <th>Date</th>\n",
              "      <th>Polarity</th>\n",
              "      <th>Sentiment</th>\n",
              "    </tr>\n",
              "  </thead>\n",
              "  <tbody>\n",
              "    <tr>\n",
              "      <th>0</th>\n",
              "      <td>0</td>\n",
              "      <td>Eric Hazlett</td>\n",
              "      <td>[]</td>\n",
              "      <td>5</td>\n",
              "      <td>2021-12-26 08:19:01</td>\n",
              "      <td>0.000000</td>\n",
              "      <td>1</td>\n",
              "    </tr>\n",
              "    <tr>\n",
              "      <th>1</th>\n",
              "      <td>1</td>\n",
              "      <td>LeRoy Muhs</td>\n",
              "      <td>[green, box, failur]</td>\n",
              "      <td>1</td>\n",
              "      <td>2021-12-26 06:34:42</td>\n",
              "      <td>-0.258333</td>\n",
              "      <td>0</td>\n",
              "    </tr>\n",
              "    <tr>\n",
              "      <th>2</th>\n",
              "      <td>2</td>\n",
              "      <td>Emrick Azor</td>\n",
              "      <td>[got, new, phone, default, hate, game, throne]</td>\n",
              "      <td>1</td>\n",
              "      <td>2021-12-25 20:55:28</td>\n",
              "      <td>-0.354545</td>\n",
              "      <td>0</td>\n",
              "    </tr>\n",
              "    <tr>\n",
              "      <th>3</th>\n",
              "      <td>3</td>\n",
              "      <td>James Wiltz</td>\n",
              "      <td>[👍👍👍👍👍👍👍👍👍👍👍👍👍👍]</td>\n",
              "      <td>5</td>\n",
              "      <td>2021-12-25 18:40:47</td>\n",
              "      <td>0.000000</td>\n",
              "      <td>1</td>\n",
              "    </tr>\n",
              "    <tr>\n",
              "      <th>4</th>\n",
              "      <td>4</td>\n",
              "      <td>Axel Retta</td>\n",
              "      <td>[cant, delet, app]</td>\n",
              "      <td>1</td>\n",
              "      <td>2021-12-25 07:34:29</td>\n",
              "      <td>0.000000</td>\n",
              "      <td>1</td>\n",
              "    </tr>\n",
              "    <tr>\n",
              "      <th>...</th>\n",
              "      <td>...</td>\n",
              "      <td>...</td>\n",
              "      <td>...</td>\n",
              "      <td>...</td>\n",
              "      <td>...</td>\n",
              "      <td>...</td>\n",
              "      <td>...</td>\n",
              "    </tr>\n",
              "    <tr>\n",
              "      <th>50037</th>\n",
              "      <td>6813</td>\n",
              "      <td>Mark Falconer</td>\n",
              "      <td>[haha, liter, got, advert, game, video]</td>\n",
              "      <td>88</td>\n",
              "      <td>2019-06-05 13:58:54+00:00</td>\n",
              "      <td>-0.100000</td>\n",
              "      <td>0</td>\n",
              "    </tr>\n",
              "    <tr>\n",
              "      <th>50038</th>\n",
              "      <td>6814</td>\n",
              "      <td>Alphajet 101</td>\n",
              "      <td>[came, pokemon, direct, say, jay]</td>\n",
              "      <td>20</td>\n",
              "      <td>2019-06-05 13:58:29+00:00</td>\n",
              "      <td>0.100000</td>\n",
              "      <td>1</td>\n",
              "    </tr>\n",
              "    <tr>\n",
              "      <th>50039</th>\n",
              "      <td>6815</td>\n",
              "      <td>Sean Tyler Fermin</td>\n",
              "      <td>[surpris, game, shit, show]</td>\n",
              "      <td>0</td>\n",
              "      <td>2019-06-05 13:58:19+00:00</td>\n",
              "      <td>-0.300000</td>\n",
              "      <td>0</td>\n",
              "    </tr>\n",
              "    <tr>\n",
              "      <th>50040</th>\n",
              "      <td>6816</td>\n",
              "      <td>That Guy</td>\n",
              "      <td>[right, got, ad, right, jk, wouldv, funni]</td>\n",
              "      <td>6</td>\n",
              "      <td>2019-06-05 13:58:10+00:00</td>\n",
              "      <td>0.273810</td>\n",
              "      <td>1</td>\n",
              "    </tr>\n",
              "    <tr>\n",
              "      <th>50041</th>\n",
              "      <td>6817</td>\n",
              "      <td>Jay Exci</td>\n",
              "      <td>[much, ill, miss, chri, sheila, kevin, uninsta...</td>\n",
              "      <td>872</td>\n",
              "      <td>2019-06-05 13:57:09+00:00</td>\n",
              "      <td>0.437500</td>\n",
              "      <td>1</td>\n",
              "    </tr>\n",
              "  </tbody>\n",
              "</table>\n",
              "<p>50038 rows × 7 columns</p>\n",
              "</div>\n",
              "      <button class=\"colab-df-convert\" onclick=\"convertToInteractive('df-09f70ece-a388-45ac-9bc3-0e401d1c1583')\"\n",
              "              title=\"Convert this dataframe to an interactive table.\"\n",
              "              style=\"display:none;\">\n",
              "        \n",
              "  <svg xmlns=\"http://www.w3.org/2000/svg\" height=\"24px\"viewBox=\"0 0 24 24\"\n",
              "       width=\"24px\">\n",
              "    <path d=\"M0 0h24v24H0V0z\" fill=\"none\"/>\n",
              "    <path d=\"M18.56 5.44l.94 2.06.94-2.06 2.06-.94-2.06-.94-.94-2.06-.94 2.06-2.06.94zm-11 1L8.5 8.5l.94-2.06 2.06-.94-2.06-.94L8.5 2.5l-.94 2.06-2.06.94zm10 10l.94 2.06.94-2.06 2.06-.94-2.06-.94-.94-2.06-.94 2.06-2.06.94z\"/><path d=\"M17.41 7.96l-1.37-1.37c-.4-.4-.92-.59-1.43-.59-.52 0-1.04.2-1.43.59L10.3 9.45l-7.72 7.72c-.78.78-.78 2.05 0 2.83L4 21.41c.39.39.9.59 1.41.59.51 0 1.02-.2 1.41-.59l7.78-7.78 2.81-2.81c.8-.78.8-2.07 0-2.86zM5.41 20L4 18.59l7.72-7.72 1.47 1.35L5.41 20z\"/>\n",
              "  </svg>\n",
              "      </button>\n",
              "      \n",
              "  <style>\n",
              "    .colab-df-container {\n",
              "      display:flex;\n",
              "      flex-wrap:wrap;\n",
              "      gap: 12px;\n",
              "    }\n",
              "\n",
              "    .colab-df-convert {\n",
              "      background-color: #E8F0FE;\n",
              "      border: none;\n",
              "      border-radius: 50%;\n",
              "      cursor: pointer;\n",
              "      display: none;\n",
              "      fill: #1967D2;\n",
              "      height: 32px;\n",
              "      padding: 0 0 0 0;\n",
              "      width: 32px;\n",
              "    }\n",
              "\n",
              "    .colab-df-convert:hover {\n",
              "      background-color: #E2EBFA;\n",
              "      box-shadow: 0px 1px 2px rgba(60, 64, 67, 0.3), 0px 1px 3px 1px rgba(60, 64, 67, 0.15);\n",
              "      fill: #174EA6;\n",
              "    }\n",
              "\n",
              "    [theme=dark] .colab-df-convert {\n",
              "      background-color: #3B4455;\n",
              "      fill: #D2E3FC;\n",
              "    }\n",
              "\n",
              "    [theme=dark] .colab-df-convert:hover {\n",
              "      background-color: #434B5C;\n",
              "      box-shadow: 0px 1px 3px 1px rgba(0, 0, 0, 0.15);\n",
              "      filter: drop-shadow(0px 1px 2px rgba(0, 0, 0, 0.3));\n",
              "      fill: #FFFFFF;\n",
              "    }\n",
              "  </style>\n",
              "\n",
              "      <script>\n",
              "        const buttonEl =\n",
              "          document.querySelector('#df-09f70ece-a388-45ac-9bc3-0e401d1c1583 button.colab-df-convert');\n",
              "        buttonEl.style.display =\n",
              "          google.colab.kernel.accessAllowed ? 'block' : 'none';\n",
              "\n",
              "        async function convertToInteractive(key) {\n",
              "          const element = document.querySelector('#df-09f70ece-a388-45ac-9bc3-0e401d1c1583');\n",
              "          const dataTable =\n",
              "            await google.colab.kernel.invokeFunction('convertToInteractive',\n",
              "                                                     [key], {});\n",
              "          if (!dataTable) return;\n",
              "\n",
              "          const docLinkHtml = 'Like what you see? Visit the ' +\n",
              "            '<a target=\"_blank\" href=https://colab.research.google.com/notebooks/data_table.ipynb>data table notebook</a>'\n",
              "            + ' to learn more about interactive tables.';\n",
              "          element.innerHTML = '';\n",
              "          dataTable['output_type'] = 'display_data';\n",
              "          await google.colab.output.renderOutput(dataTable, element);\n",
              "          const docLink = document.createElement('div');\n",
              "          docLink.innerHTML = docLinkHtml;\n",
              "          element.appendChild(docLink);\n",
              "        }\n",
              "      </script>\n",
              "    </div>\n",
              "  </div>\n",
              "  "
            ],
            "text/plain": [
              "       Unnamed: 0               Name  ...  Polarity  Sentiment\n",
              "0               0       Eric Hazlett  ...  0.000000          1\n",
              "1               1         LeRoy Muhs  ... -0.258333          0\n",
              "2               2        Emrick Azor  ... -0.354545          0\n",
              "3               3        James Wiltz  ...  0.000000          1\n",
              "4               4         Axel Retta  ...  0.000000          1\n",
              "...           ...                ...  ...       ...        ...\n",
              "50037        6813      Mark Falconer  ... -0.100000          0\n",
              "50038        6814       Alphajet 101  ...  0.100000          1\n",
              "50039        6815  Sean Tyler Fermin  ... -0.300000          0\n",
              "50040        6816           That Guy  ...  0.273810          1\n",
              "50041        6817           Jay Exci  ...  0.437500          1\n",
              "\n",
              "[50038 rows x 7 columns]"
            ]
          },
          "metadata": {},
          "execution_count": 25
        }
      ],
      "source": [
        "df['Sentiment'] = df['Polarity'].apply(sentiment)\n",
        "df"
      ]
    },
    {
      "cell_type": "code",
      "execution_count": null,
      "metadata": {
        "colab": {
          "base_uri": "https://localhost:8080/",
          "height": 334
        },
        "id": "WMvucSy2TzqW",
        "outputId": "115373ae-2cc3-45f9-91da-d06a8268e07e"
      },
      "outputs": [
        {
          "output_type": "execute_result",
          "data": {
            "text/plain": [
              "(array([15622.,     0.,     0.,     0.,     0.,     0.,     0.,     0.,\n",
              "            0., 34416.]),\n",
              " array([0. , 0.1, 0.2, 0.3, 0.4, 0.5, 0.6, 0.7, 0.8, 0.9, 1. ]),\n",
              " <a list of 10 Patch objects>)"
            ]
          },
          "metadata": {},
          "execution_count": 26
        },
        {
          "output_type": "display_data",
          "data": {
            "image/png": "[encoded data removed]",
            "text/plain": [
              "<Figure size 432x288 with 1 Axes>"
            ]
          },
          "metadata": {
            "needs_background": "light"
          }
        }
      ],
      "source": [
        "plt.hist(df['Sentiment'])"
      ]
    },
    {
      "cell_type": "code",
      "execution_count": null,
      "metadata": {
        "id": "gO89Uce3TzqY"
      },
      "outputs": [],
      "source": [
        "\n",
        "df.Reviews = df.Reviews.astype(str)\n"
      ]
    },
    {
      "cell_type": "code",
      "execution_count": null,
      "metadata": {
        "id": "VsTshfpVTzqZ"
      },
      "outputs": [],
      "source": [
        "from sklearn.feature_extraction.text import TfidfVectorizer \n",
        "\n",
        "vect=TfidfVectorizer(use_idf=True, max_features = 20000) \n",
        "X = vect.fit_transform(df['Reviews'])\n",
        "Y=df['Sentiment']"
      ]
    },
    {
      "cell_type": "code",
      "execution_count": null,
      "metadata": {
        "id": "ZIo4LBmBTzqZ"
      },
      "outputs": [],
      "source": [
        "from sklearn.model_selection import train_test_split\n",
        "from sklearn.metrics import mean_absolute_error, accuracy_score, confusion_matrix, classification_report, roc_auc_score,roc_curve,auc\n",
        "from sklearn.tree import DecisionTreeClassifier\n",
        "\n",
        "X_train, X_test, y_train, y_test = train_test_split(X,Y, random_state = 1,test_size=0.2)\n"
      ]
    },
    {
      "cell_type": "code",
      "execution_count": null,
      "metadata": {
        "colab": {
          "base_uri": "https://localhost:8080/"
        },
        "id": "PyZKFv4ITzqa",
        "outputId": "682b6308-5a67-46f2-9dbb-b65f3f277b69"
      },
      "outputs": [
        {
          "output_type": "stream",
          "name": "stdout",
          "text": [
            "Training Accuracy score: 0.9948\n",
            "Testing Accuracy score: 0.8723\n"
          ]
        }
      ],
      "source": [
        "SEED=123\n",
        "\n",
        "dt = DecisionTreeClassifier(random_state=SEED)\n",
        "dt.fit(X_train,y_train)\n",
        "y_pred_test = dt.predict(X_test)\n",
        "print(\"Training Accuracy score: \"+str(round(accuracy_score(y_train,dt.predict(X_train)),4)))\n",
        "print(\"Testing Accuracy score: \"+str(round(accuracy_score(y_test,dt.predict(X_test)),4)))"
      ]
    },
    {
      "cell_type": "code",
      "execution_count": null,
      "metadata": {
        "colab": {
          "base_uri": "https://localhost:8080/"
        },
        "id": "fsz6rhdrTzqb",
        "outputId": "9e98eb52-9695-4847-c1d3-773124edc47c"
      },
      "outputs": [
        {
          "output_type": "stream",
          "name": "stdout",
          "text": [
            "              precision    recall  f1-score   support\n",
            "\n",
            "    positive       0.78      0.81      0.80      3073\n",
            "    negative       0.91      0.90      0.91      6935\n",
            "\n",
            "    accuracy                           0.87     10008\n",
            "   macro avg       0.85      0.85      0.85     10008\n",
            "weighted avg       0.87      0.87      0.87     10008\n",
            "\n"
          ]
        }
      ],
      "source": [
        "print(classification_report(y_test, y_pred_test, target_names=['positive', 'negative']))"
      ]
    },
    {
      "cell_type": "code",
      "execution_count": null,
      "metadata": {
        "colab": {
          "base_uri": "https://localhost:8080/"
        },
        "id": "qil54wzFTzqc",
        "outputId": "1ec3bace-aece-4426-be93-63e959f33391"
      },
      "outputs": [
        {
          "output_type": "display_data",
          "data": {
            "image/png": "[encoded data removed]",
            "text/plain": [
              "<Figure size 432x288 with 2 Axes>"
            ]
          },
          "metadata": {
            "needs_background": "light"
          }
        }
      ],
      "source": [
        "import seaborn as sns\n",
        "\n",
        "cm = confusion_matrix(y_test, y_pred_test)\n",
        "#print('Confusion matrix\\n', cm)\n",
        "cm_matrix = pd.DataFrame(data=cm, columns=['Actual Negative', 'Actual Positive'], \n",
        "                        index=['Predict Negative',  'Predict Positive'])\n",
        "sns.heatmap(cm_matrix, annot=True, fmt='d', cmap='YlGnBu')\n",
        "plt.show()"
      ]
    },
    {
      "cell_type": "code",
      "execution_count": null,
      "metadata": {
        "colab": {
          "base_uri": "https://localhost:8080/"
        },
        "id": "LgdKpsumTzqc",
        "outputId": "77d2dae8-f1a3-45df-f998-a766b5cc34ff"
      },
      "outputs": [
        {
          "output_type": "stream",
          "name": "stdout",
          "text": [
            "[0]\n"
          ]
        }
      ],
      "source": [
        "text=[\"bad game\"]\n",
        "\n",
        "vectorize=vect.transform(text)\n",
        "\n",
        "print(dt.predict(vectorize))"
      ]
    },
    {
      "cell_type": "code",
      "execution_count": null,
      "metadata": {
        "id": "UesUctquTzqd"
      },
      "outputs": [],
      "source": [
        "import numpy as np\n",
        "import pandas as pd\n",
        "from tensorflow.keras.models import Sequential\n",
        "from tensorflow.keras.layers import Dense, GRU, Embedding\n",
        "from tensorflow.keras.optimizers import Adam\n",
        "from tensorflow.keras.preprocessing.text import Tokenizer\n",
        "from tensorflow.keras.preprocessing.sequence import pad_sequences\n"
      ]
    },
    {
      "cell_type": "code",
      "source": [
        "X = df['Reviews'].values\n",
        "y = df['Sentiment'].values"
      ],
      "metadata": {
        "id": "uckzXN7gx1PA"
      },
      "execution_count": null,
      "outputs": []
    },
    {
      "cell_type": "code",
      "source": [
        "num_words = 10000 \n",
        "# We have defined the most frequent 10000 repeated words in corpus for tokenizing. We ignore the rest.\n",
        "\n",
        "tokenizer = Tokenizer(num_words=num_words) "
      ],
      "metadata": {
        "id": "YoWuDs2tyJMa"
      },
      "execution_count": null,
      "outputs": []
    },
    {
      "cell_type": "code",
      "source": [
        "tokenizer.fit_on_texts(X)\n",
        "X_num_tokens = tokenizer.texts_to_sequences(X)\n",
        "np.array(X_num_tokens)\n"
      ],
      "metadata": {
        "colab": {
          "base_uri": "https://localhost:8080/"
        },
        "id": "gTnvi-sJySgG",
        "outputId": "dbfbf611-af16-48b9-ed54-3ad5f31ff4cb"
      },
      "execution_count": null,
      "outputs": [
        {
          "output_type": "stream",
          "name": "stderr",
          "text": [
            "/usr/local/lib/python3.7/dist-packages/ipykernel_launcher.py:3: VisibleDeprecationWarning: Creating an ndarray from ragged nested sequences (which is a list-or-tuple of lists-or-tuples-or ndarrays with different lengths or shapes) is deprecated. If you meant to do this, you must specify 'dtype=object' when creating the ndarray\n",
            "  This is separate from the ipykernel package so we can avoid doing imports until\n"
          ]
        },
        {
          "output_type": "execute_result",
          "data": {
            "text/plain": [
              "array([list([]), list([1588, 1202, 1589]),\n",
              "       list([11, 70, 47, 1590, 276, 1, 28]), ..., list([627, 1, 301, 59]),\n",
              "       list([162, 11, 19, 162, 4058, 1693, 618]),\n",
              "       list([24, 316, 518, 1201, 1180, 199, 73, 532, 372, 184, 9, 75, 1539, 255, 469])],\n",
              "      dtype=object)"
            ]
          },
          "metadata": {},
          "execution_count": 37
        }
      ]
    },
    {
      "cell_type": "code",
      "source": [
        "max_tokens = 103\n",
        "X_pad = pad_sequences(X_num_tokens, maxlen=max_tokens)\n"
      ],
      "metadata": {
        "id": "F0P21NFIypyU"
      },
      "execution_count": null,
      "outputs": []
    },
    {
      "cell_type": "code",
      "source": [
        "X_train, X_test, y_train, y_test = train_test_split(X_pad, y, test_size=0.2, stratify=y, random_state=101)  "
      ],
      "metadata": {
        "id": "mI9WNcCtzKNv"
      },
      "execution_count": null,
      "outputs": []
    },
    {
      "cell_type": "code",
      "source": [
        "model = Sequential()\n",
        "embedding_size = 100\n",
        "model.add(Embedding(input_dim=num_words,        \n",
        "                    output_dim=embedding_size,                                       \n",
        "                    input_length=max_tokens,    \n",
        "                    name='embedding_layer')) "
      ],
      "metadata": {
        "id": "Aqj2RRRyzLy7"
      },
      "execution_count": null,
      "outputs": []
    },
    {
      "cell_type": "code",
      "source": [
        "model.add(GRU(units=48, return_sequences=True))  \n",
        "model.add(GRU(units=24, return_sequences=True)) \n",
        "model.add(GRU(units=12)) \n",
        "model.add(Dense(1, activation='sigmoid'))  "
      ],
      "metadata": {
        "id": "H0tn5ob2zaOm"
      },
      "execution_count": null,
      "outputs": []
    },
    {
      "cell_type": "code",
      "source": [
        "optimizer = Adam(learning_rate=0.006)\n",
        "model.compile(loss='binary_crossentropy',\n",
        "              optimizer=optimizer,\n",
        "              metrics=['accuracy'])"
      ],
      "metadata": {
        "id": "yfuVqMYQzegI"
      },
      "execution_count": null,
      "outputs": []
    },
    {
      "cell_type": "code",
      "source": [
        "model.summary() \n"
      ],
      "metadata": {
        "colab": {
          "base_uri": "https://localhost:8080/"
        },
        "id": "DPcVdG1hzkfa",
        "outputId": "a96f52ab-e1c2-4b99-eb59-91ab2c61cbd1"
      },
      "execution_count": null,
      "outputs": [
        {
          "output_type": "stream",
          "name": "stdout",
          "text": [
            "Model: \"sequential\"\n",
            "_________________________________________________________________\n",
            " Layer (type)                Output Shape              Param #   \n",
            "=================================================================\n",
            " embedding_layer (Embedding)  (None, 103, 100)         1000000   \n",
            "                                                                 \n",
            " gru (GRU)                   (None, 103, 48)           21600     \n",
            "                                                                 \n",
            " gru_1 (GRU)                 (None, 103, 24)           5328      \n",
            "                                                                 \n",
            " gru_2 (GRU)                 (None, 12)                1368      \n",
            "                                                                 \n",
            " dense (Dense)               (None, 1)                 13        \n",
            "                                                                 \n",
            "=================================================================\n",
            "Total params: 1,028,309\n",
            "Trainable params: 1,028,309\n",
            "Non-trainable params: 0\n",
            "_________________________________________________________________\n"
          ]
        }
      ]
    },
    {
      "cell_type": "code",
      "source": [
        "from tensorflow.keras.callbacks import EarlyStopping\n",
        "\n",
        "early_stop = EarlyStopping(monitor=\"val_loss\", mode=\"auto\", \n",
        "                           verbose=1, patience = 10, restore_best_weights=True)"
      ],
      "metadata": {
        "id": "ZgJOQVsHz8Co"
      },
      "execution_count": null,
      "outputs": []
    },
    {
      "cell_type": "code",
      "source": [
        "pd.Series(y_train).value_counts(normalize=True) \n"
      ],
      "metadata": {
        "colab": {
          "base_uri": "https://localhost:8080/"
        },
        "id": "pdocfIldz_PI",
        "outputId": "3fdfa2fc-8f51-418a-8244-0bd5b4174047"
      },
      "execution_count": null,
      "outputs": [
        {
          "output_type": "execute_result",
          "data": {
            "text/plain": [
              "1    0.687809\n",
              "0    0.312191\n",
              "dtype: float64"
            ]
          },
          "metadata": {},
          "execution_count": 45
        }
      ]
    },
    {
      "cell_type": "code",
      "source": [
        "weights = {0:82, 1:18}\n",
        "model.fit(X_train, y_train, epochs=10, batch_size=5000, class_weight=weights,\n",
        "         validation_data=(X_test, y_test), callbacks=[early_stop])"
      ],
      "metadata": {
        "colab": {
          "base_uri": "https://localhost:8080/"
        },
        "id": "7jwgb1F-0EMB",
        "outputId": "e0faf77b-d7d7-42fc-d5c5-27d7cf1d1863"
      },
      "execution_count": null,
      "outputs": [
        {
          "output_type": "stream",
          "name": "stdout",
          "text": [
            "Epoch 1/10\n",
            "9/9 [==============================] - 48s 4s/step - loss: 21.6406 - accuracy: 0.5351 - val_loss: 0.6739 - val_accuracy: 0.6438\n",
            "Epoch 2/10\n",
            "9/9 [==============================] - 38s 4s/step - loss: 14.5655 - accuracy: 0.7464 - val_loss: 0.4834 - val_accuracy: 0.8122\n",
            "Epoch 3/10\n",
            "9/9 [==============================] - 37s 4s/step - loss: 10.2941 - accuracy: 0.8581 - val_loss: 0.3491 - val_accuracy: 0.8718\n",
            "Epoch 4/10\n",
            "9/9 [==============================] - 37s 4s/step - loss: 8.9468 - accuracy: 0.8817 - val_loss: 0.3905 - val_accuracy: 0.8526\n",
            "Epoch 5/10\n",
            "9/9 [==============================] - 38s 4s/step - loss: 7.9095 - accuracy: 0.8866 - val_loss: 0.3399 - val_accuracy: 0.8735\n",
            "Epoch 6/10\n",
            "9/9 [==============================] - 38s 4s/step - loss: 6.9132 - accuracy: 0.9115 - val_loss: 0.3377 - val_accuracy: 0.8724\n",
            "Epoch 7/10\n",
            "9/9 [==============================] - 37s 4s/step - loss: 6.2303 - accuracy: 0.9249 - val_loss: 0.3260 - val_accuracy: 0.8844\n",
            "Epoch 8/10\n",
            "9/9 [==============================] - 37s 4s/step - loss: 5.7383 - accuracy: 0.9319 - val_loss: 0.3496 - val_accuracy: 0.8823\n",
            "Epoch 9/10\n",
            "9/9 [==============================] - 38s 4s/step - loss: 5.4798 - accuracy: 0.9385 - val_loss: 0.3497 - val_accuracy: 0.8812\n",
            "Epoch 10/10\n",
            "9/9 [==============================] - 37s 4s/step - loss: 5.1113 - accuracy: 0.9433 - val_loss: 0.3395 - val_accuracy: 0.8908\n"
          ]
        },
        {
          "output_type": "execute_result",
          "data": {
            "text/plain": [
              "<keras.callbacks.History at 0x7f47c21be2d0>"
            ]
          },
          "metadata": {},
          "execution_count": 46
        }
      ]
    },
    {
      "cell_type": "code",
      "source": [
        "model.evaluate(X_train, y_train)\n"
      ],
      "metadata": {
        "colab": {
          "base_uri": "https://localhost:8080/"
        },
        "id": "4T8qV2j04WWA",
        "outputId": "c2fee439-222e-43e3-99be-d7d3174d1cc6"
      },
      "execution_count": null,
      "outputs": [
        {
          "output_type": "stream",
          "name": "stdout",
          "text": [
            "1251/1251 [==============================] - 34s 27ms/step - loss: 0.1609 - accuracy: 0.9527\n"
          ]
        },
        {
          "output_type": "execute_result",
          "data": {
            "text/plain": [
              "[0.16085228323936462, 0.9526605010032654]"
            ]
          },
          "metadata": {},
          "execution_count": 47
        }
      ]
    },
    {
      "cell_type": "code",
      "source": [
        "from sklearn.metrics import confusion_matrix, classification_report, accuracy_score, f1_score, roc_auc_score\n",
        "\n",
        "y_train_pred = (model.predict(X_train) >= 0.5).astype(\"int32\")  \n",
        "\n",
        "print(confusion_matrix(y_train, y_train_pred))\n",
        "print(\"-------------------------------------------------------\")\n",
        "print(classification_report(y_train, y_train_pred))"
      ],
      "metadata": {
        "colab": {
          "base_uri": "https://localhost:8080/"
        },
        "id": "4OUCluzR4i-f",
        "outputId": "c79fc31f-ebcc-4f2c-b54b-4f265e0a0f53"
      },
      "execution_count": null,
      "outputs": [
        {
          "output_type": "stream",
          "name": "stdout",
          "text": [
            "[[12169   328]\n",
            " [ 1567 25966]]\n",
            "-------------------------------------------------------\n",
            "              precision    recall  f1-score   support\n",
            "\n",
            "           0       0.89      0.97      0.93     12497\n",
            "           1       0.99      0.94      0.96     27533\n",
            "\n",
            "    accuracy                           0.95     40030\n",
            "   macro avg       0.94      0.96      0.95     40030\n",
            "weighted avg       0.96      0.95      0.95     40030\n",
            "\n"
          ]
        }
      ]
    },
    {
      "cell_type": "code",
      "source": [
        "review = \"Love this game\"\n",
        "tokens = tokenizer.texts_to_sequences(review)\n",
        "tokens_pad = pad_sequences(tokens, maxlen=max_tokens)\n",
        "mod_pred = model.predict(tokens_pad)\n",
        "mod_pred\n"
      ],
      "metadata": {
        "colab": {
          "base_uri": "https://localhost:8080/"
        },
        "id": "R0y_FrP95IvZ",
        "outputId": "f81d74c5-b080-493a-8338-51c7bb7186bf"
      },
      "execution_count": null,
      "outputs": [
        {
          "output_type": "execute_result",
          "data": {
            "text/plain": [
              "array([[0.97917926],\n",
              "       [0.97917926],\n",
              "       [0.97917926],\n",
              "       [0.97917926],\n",
              "       [0.97917926],\n",
              "       [0.97917926],\n",
              "       [0.97917926],\n",
              "       [0.97917926],\n",
              "       [0.97917926],\n",
              "       [0.97917926],\n",
              "       [0.97917926],\n",
              "       [0.97917926],\n",
              "       [0.97917926],\n",
              "       [0.97917926]], dtype=float32)"
            ]
          },
          "metadata": {},
          "execution_count": 49
        }
      ]
    },
    {
      "cell_type": "markdown",
      "source": [
        "# Nouvelle section"
      ],
      "metadata": {
        "id": "XXJSAda0-1Sb"
      }
    }
  ],
  "metadata": {
    "kernelspec": {
      "display_name": "Python 3",
      "language": "python",
      "name": "python3"
    },
    "language_info": {
      "codemirror_mode": {
        "name": "ipython",
        "version": 3
      },
      "file_extension": ".py",
      "mimetype": "text/x-python",
      "name": "python",
      "nbconvert_exporter": "python",
      "pygments_lexer": "ipython3",
      "version": "3.8.5"
    },
    "colab": {
      "name": "Project GOT.ipynb",
      "provenance": [],
      "collapsed_sections": [],
      "include_colab_link": true
    }
  },
  "nbformat": 4,
  "nbformat_minor": 0
}